{
 "cells": [
  {
   "cell_type": "code",
   "execution_count": 1,
   "metadata": {},
   "outputs": [],
   "source": [
    "import numpy as np\n",
    "import pandas as pd\n",
    "import sqlite3\n",
    "\n",
    "from algorithms.dcss import dcss\n",
    "from algorithms.mds import mds\n",
    "from algorithms.rank_k_svd import rank_k_svd\n",
    "from algorithms.t_sne import t_sne"
   ]
  },
  {
   "cell_type": "markdown",
   "metadata": {},
   "source": [
    "# Preprocessing"
   ]
  },
  {
   "cell_type": "code",
   "execution_count": 2,
   "metadata": {},
   "outputs": [],
   "source": [
    "# Pull data from sqlite database\n",
    "conn = sqlite3.connect('data/rpkm.db')\n",
    "c = conn.cursor()\n",
    "sql = '''\n",
    "    SELECT *\n",
    "    FROM rpkm\n",
    "'''\n",
    "c.execute(sql)\n",
    "lines = c.fetchall()\n",
    "c.execute('''PRAGMA table_info(rpkm);''')\n",
    "cols = [line[1] for line in c.fetchall()]\n",
    "conn.close()"
   ]
  },
  {
   "cell_type": "code",
   "execution_count": 3,
   "metadata": {},
   "outputs": [],
   "source": [
    "df = pd.DataFrame(data=lines, columns=cols)\n",
    "df.index=df['gene']\n",
    "df = df.drop(['gene'], axis=1)\n",
    "\n",
    "# sqlite doesn't handle large numbers of columns well, so we transpose in pandas\n",
    "df = df.transpose()\n",
    "\n",
    "# expand out the former column names to obtain a multi-index\n",
    "df.index = df.index.str.split('_', expand=True)\n",
    "df.index.names = ['organ', 'study', 'celltype', 'id']\n",
    "df = df.sort_index()"
   ]
  },
  {
   "cell_type": "code",
   "execution_count": 4,
   "metadata": {},
   "outputs": [
    {
     "name": "stdout",
     "output_type": "stream",
     "text": [
      "organ      study  celltype  \n",
      "embryonic  deng   16cell        58\n",
      "                  4cell         14\n",
      "                  8cell         47\n",
      "                  BXC           13\n",
      "                  C57twocell     8\n",
      "                  early2cell     8\n",
      "                  earlyblast    43\n",
      "                  fibroblast    10\n",
      "                  late2cell     10\n",
      "                  lateblast     30\n",
      "                  mid2cell      12\n",
      "                  midblast      60\n",
      "                  zy1            1\n",
      "                  zy2            1\n",
      "                  zy3            1\n",
      "                  zy4            1\n",
      "dtype: int64\n"
     ]
    }
   ],
   "source": [
    "# drop cells from very sparsely represented types\n",
    "index_sizes = df.groupby(level=[0,1,2]).size()\n",
    "print index_sizes\n",
    "df = df.groupby(level=[0,1,2]).filter(lambda x: len(x) >= 5)"
   ]
  }
 ],
 "metadata": {
  "kernelspec": {
   "display_name": "Python 2",
   "language": "python",
   "name": "python2"
  },
  "language_info": {
   "codemirror_mode": {
    "name": "ipython",
    "version": 2
   },
   "file_extension": ".py",
   "mimetype": "text/x-python",
   "name": "python",
   "nbconvert_exporter": "python",
   "pygments_lexer": "ipython2",
   "version": "2.7.18rc1"
  }
 },
 "nbformat": 4,
 "nbformat_minor": 2
}
